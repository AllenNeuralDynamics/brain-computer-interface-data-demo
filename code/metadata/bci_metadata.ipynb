{
 "cells": [
  {
   "cell_type": "code",
   "execution_count": 1,
   "id": "fd2a7047-9da6-4b55-a111-f1b159b3a5cf",
   "metadata": {
    "tags": []
   },
   "outputs": [],
   "source": [
    "import pandas as pd \n",
    "from datetime import datetime, date"
   ]
  },
  {
   "cell_type": "code",
   "execution_count": 2,
   "id": "4248ea4f-7365-4ed7-a8a3-ead4982710ae",
   "metadata": {
    "tags": []
   },
   "outputs": [
    {
     "name": "stdout",
     "output_type": "stream",
     "text": [
      "https://api.allenneuraldynamics.org/v1/metadata_index/data_assets\n"
     ]
    }
   ],
   "source": [
    "from aind_data_access_api.document_db import MetadataDbClient\n",
    "\n",
    "API_GATEWAY_HOST = \"api.allenneuraldynamics.org\"\n",
    "DATABASE = 'metadata_index'\n",
    "COLLECTION = 'data_assets'\n",
    "\n",
    "docdb_api_client = MetadataDbClient(\n",
    "   host=API_GATEWAY_HOST,\n",
    "   database=DATABASE,\n",
    "   collection=COLLECTION,\n",
    ")\n",
    "print(docdb_api_client._base_url)"
   ]
  },
  {
   "cell_type": "code",
   "execution_count": 3,
   "id": "75e41a71-d97b-4f32-9384-409e288e4bb5",
   "metadata": {
    "tags": []
   },
   "outputs": [],
   "source": [
    "aggregate = [\n",
    "  {\n",
    "    \"$match\": {\n",
    "      \"session.session_type\": \"BCI single neuron stim\",\n",
    "      \"data_description.data_level\": \"derived\",\n",
    "      \"processing.processing_pipeline.data_processes.start_date_time\":{\"$gte\":\"2025-08-03\"}\n",
    "    }\n",
    "  },\n",
    "  {\n",
    "    \"$project\": {\n",
    "      \"name\": 1,\n",
    "      \"subject_id\": \"$data_description.subject_id\",\n",
    "      \"genotype\": \"$subject.genotype\",\n",
    "      \"virus\": \"$procedures.subject_procedures.procedures.injection_materials.name\",\n",
    "      \"date_of_birth\": \"$subject.date_of_birth\",\n",
    "      \"sex\": \"$subject.sex\",\n",
    "      \"session_type\": \"$session.session_type\",\n",
    "      \"session_time\": \"$session.session_start_time\",\n",
    "      \"stimulus_epochs\": \"$session.stimulus_epochs.stimulus_name\",\n",
    "      \"project_name\": \"$data_description.project_name\",\n",
    "      \"modality\": \"$data_description.modality.name\",\n",
    "      \"targeted_structure\": \"$session.data_streams.stack_parameters.targeted_structure\",\n",
    "      \"session_number\": {\n",
    "        \"$filter\": {\n",
    "          \"input\": \"$session.stimulus_epochs\",\n",
    "          \"as\": \"epoch\",\n",
    "          \"cond\": { \"$eq\": [\"$$epoch.stimulus_name\", \"single neuron BCI conditioning\"] }\n",
    "        }\n",
    "      },\n",
    "      \"ophys_fov\": {\n",
    "            '$map': {\n",
    "                'input': '$session.data_streams',\n",
    "                'as': 'stream',\n",
    "                'in': {\n",
    "                    '$map': {\n",
    "                            'input': '$$stream.ophys_fovs',\n",
    "                            'as': 'fov',\n",
    "                            'in': '$$fov.notes'\n",
    "                    }\n",
    "                }\n",
    "            }\n",
    "        },\n",
    "     \"magnification\": \"$session.data_streams.stack_parameters.magnification\",\n",
    "    }\n",
    "  },\n",
    "  {\n",
    "    \"$project\": {\n",
    "      \"name\": 1,\n",
    "      \"subject_id\": 1,\n",
    "      \"genotype\": 1,\n",
    "      \"virus\": 1,\n",
    "      \"date_of_birth\": 1,\n",
    "      \"sex\": 1,\n",
    "      \"session_type\": 1,\n",
    "      \"session_time\": 1,\n",
    "      \"stimulus_epochs\": 1,\n",
    "      \"project_name\": 1,\n",
    "      \"modality\": 1,\n",
    "      \"targeted_structure\": 1,\n",
    "      \"session_number\": { \"$arrayElemAt\": [\"$session_number.session_number\", 0] },\n",
    "      \"ophys_fov\": 1,\n",
    "      \"magnification\": 1\n",
    "    }\n",
    "  },\n",
    "  {'$unwind': {'path': '$ophys_fov', 'preserveNullAndEmptyArrays': False}},\n",
    "  {'$unwind': {'path': '$ophys_fov', 'preserveNullAndEmptyArrays': False}},\n",
    "  {'$unwind': {'path': '$virus', 'preserveNullAndEmptyArrays': False}},\n",
    "  {'$unwind': {'path': '$virus', 'preserveNullAndEmptyArrays': False}},\n",
    "  {'$unwind': {'path': '$virus', 'preserveNullAndEmptyArrays': False}},\n",
    "  {'$unwind': {'path': '$modality', 'preserveNullAndEmptyArrays': False}},\n",
    "  {'$unwind': {'path': '$targeted_structure', 'preserveNullAndEmptyArrays': False}},\n",
    "  {'$unwind': {'path': '$magnification', 'preserveNullAndEmptyArrays': False}}\n",
    "\n",
    "]\n",
    "\n",
    "records = docdb_api_client.aggregate_docdb_records(\n",
    "    pipeline = aggregate,\n",
    ")"
   ]
  },
  {
   "cell_type": "code",
   "execution_count": 53,
   "id": "09466a8d-98cd-4aba-9c66-15a33587ea22",
   "metadata": {
    "tags": []
   },
   "outputs": [],
   "source": [
    "metadata = pd.DataFrame(records)\n",
    "metadata = metadata.drop_duplicates(subset=\"name\")\n",
    "\n",
    "metadata['session_date'] = metadata.apply(lambda x: datetime.fromisoformat(x['session_time']).date(), axis=1)\n",
    "metadata['session_time'] = metadata.apply(lambda x: datetime.fromisoformat(x['session_time']).time(), axis=1)\n",
    "metadata['date_of_birth'] = metadata.apply(lambda x: datetime.strptime(x['date_of_birth'], '%Y-%m-%d').date(), axis=1)\n",
    "metadata['age'] = metadata.apply(lambda x: (x['session_date'] - x['date_of_birth']).days, axis=1)\n",
    "\n",
    "order = ['project_name','session_type','_id','name','subject_id','genotype','virus','date_of_birth',\\\n",
    "         'sex','modality','session_date','age','session_time','targeted_structure','ophys_fov','session_number']\n",
    "metadata = metadata[order]\n",
    "metadata\n",
    "\n",
    "# 08/24/25 fix - Remove problem metadata rows\n",
    "problem_assets = [\n",
    "    \"single-plane-ophys_731015_2025-01-28_17-40-57_processed_2025-08-04_04-38-08\",\n",
    "    \"single-plane-ophys_731015_2025-01-28_17-40-57_processed_2025-08-08_15-30-22\", \n",
    "    \"single-plane-ophys_772414_2025-02-04_13-21-29_processed_2025-08-12_06-14-42\",\n",
    "    \"single-plane-ophys_740369_2025-01-30_18-44-54_processed_2025-08-04_13-31-14\"\n",
    "]\n",
    "\n",
    "metadata = metadata[~metadata[\"name\"].isin(problem_assets)]\n",
    "# Fix problem with 2 values in ophys_fov\n",
    "metadata.loc[(metadata.subject_id == '731015') & (metadata.session_number == 18.0),'ophys_fov'] = \"FOV_04\""
   ]
  },
  {
   "cell_type": "code",
   "execution_count": 54,
   "id": "0e6ea2f1-444e-444e-84a3-4be1be53ff8a",
   "metadata": {
    "tags": []
   },
   "outputs": [],
   "source": [
    "metadata.sort_values(by=['subject_id', 'session_number']).to_csv('/data/metadata/bci_metadata.csv', index=False)"
   ]
  }
 ],
 "metadata": {
  "kernelspec": {
   "display_name": "Python 3 (ipykernel)",
   "language": "python",
   "name": "python3"
  },
  "language_info": {
   "codemirror_mode": {
    "name": "ipython",
    "version": 3
   },
   "file_extension": ".py",
   "mimetype": "text/x-python",
   "name": "python",
   "nbconvert_exporter": "python",
   "pygments_lexer": "ipython3",
   "version": "3.10.12"
  }
 },
 "nbformat": 4,
 "nbformat_minor": 5
}
